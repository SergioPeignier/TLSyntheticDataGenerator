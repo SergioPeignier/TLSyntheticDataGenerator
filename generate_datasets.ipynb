{
 "cells": [
  {
   "cell_type": "code",
   "execution_count": 1,
   "metadata": {
    "collapsed": true
   },
   "outputs": [],
   "source": [
    "%matplotlib inline"
   ]
  },
  {
   "cell_type": "code",
   "execution_count": 2,
   "metadata": {
    "collapsed": true
   },
   "outputs": [],
   "source": [
    "import pandas as pd\n",
    "import numpy as np\n",
    "import matplotlib.pyplot as plt\n",
    "import seaborn as sns"
   ]
  },
  {
   "cell_type": "code",
   "execution_count": 3,
   "metadata": {
    "collapsed": true
   },
   "outputs": [],
   "source": [
    "import pickle"
   ]
  },
  {
   "cell_type": "code",
   "execution_count": 4,
   "metadata": {
    "collapsed": true
   },
   "outputs": [],
   "source": [
    "from Generator import StreamGenerator, ClusterPoints"
   ]
  },
  {
   "cell_type": "code",
   "execution_count": 5,
   "metadata": {
    "collapsed": true
   },
   "outputs": [],
   "source": [
    "np.random.seed(0)"
   ]
  },
  {
   "cell_type": "markdown",
   "metadata": {},
   "source": [
    "# Generate parent dataset\n",
    "### Create the generator"
   ]
  },
  {
   "cell_type": "code",
   "execution_count": 6,
   "metadata": {},
   "outputs": [
    {
     "name": "stdout",
     "output_type": "stream",
     "text": [
      "[-0.97627008 -4.30378733 -2.05526752 -0.89766366  1.52690401 -2.91788226\n",
      "  1.24825577 -7.83546002 -9.27325521  2.33116962]\n",
      "[-2.79842043  7.13293425 -8.89337834 -0.43696644  1.7067612   4.70888776\n",
      " -5.48467379  0.87699336 -1.36867898  9.62420399]\n",
      "[-2.68548116 -9.17898537 -3.05580634 -2.70117747 -9.90599135 -1.63700659\n",
      "  1.71262824  0.50604995 -2.47020202  3.2398477 ]\n",
      "[ 4.07719605  7.62544562  3.64033641  1.71474011  8.71705007 -3.84944239\n",
      " -1.33202908  4.69221018 -0.46496107  8.12118978]\n",
      "[-5.12213388  2.07803449 -7.92076775 -2.77842152 -7.83108874 -3.60111139\n",
      "  1.01604524 -9.57141857  7.67596181 -5.34047407]\n",
      "[-7.56904381  7.94273283  8.15252221  2.91906676 -1.03632518  9.32749813\n",
      " -9.37923531  3.58005517  5.5747463   7.1747219 ]\n",
      "[ 1.85633406  8.61666009 -3.94857546  0.92914635 -4.44111199 -7.32764652\n",
      " -9.5104301  -7.11606685  9.76571832  2.80043871]\n",
      "[-9.84792798  4.65474924 -3.58181231 -7.28562885 -5.01688491 -9.28979536\n",
      " -1.0848487   5.75219002  5.55113551  5.62501253]\n",
      "[ 0.61005634  0.87970754 -8.12836174  7.2555916   5.41561354 -7.63170798\n",
      " -8.08849951 -2.91569197  3.50634056 -0.39422387]\n",
      "[ 2.51660039  0.72849151  4.44742587 -1.73568693 -7.27711212  7.64936288\n",
      " -0.34758214  7.35863787 -4.33719362  2.07880594]\n"
     ]
    }
   ],
   "source": [
    "sg = StreamGenerator(weights = np.ones(10) * 1./10,\n",
    "                     number_points = 1000,\n",
    "                     dimensionality = 10,\n",
    "                     min_projected_dim = 8,\n",
    "                     max_projected_dim = 10,\n",
    "                     min_coordinate = -10,\n",
    "                     max_coordinate = 10,\n",
    "                     min_projected_dim_var = 0.1,\n",
    "                     max_projected_dim_var = 0.5,\n",
    "                     )"
   ]
  },
  {
   "cell_type": "markdown",
   "metadata": {},
   "source": [
    "### Save the generator"
   ]
  },
  {
   "cell_type": "code",
   "execution_count": 7,
   "metadata": {
    "collapsed": true
   },
   "outputs": [],
   "source": [
    "pickle.dump(sg,open(\"synthetic_datasets/source/source_generator.pickle\",\"wb\"))"
   ]
  },
  {
   "cell_type": "markdown",
   "metadata": {},
   "source": [
    "### Create the source dataset"
   ]
  },
  {
   "cell_type": "code",
   "execution_count": 8,
   "metadata": {
    "collapsed": true
   },
   "outputs": [],
   "source": [
    "stream_ss,stream_df = sg.get_full_dataset(5000)"
   ]
  },
  {
   "cell_type": "markdown",
   "metadata": {},
   "source": [
    "### Save the source datasel"
   ]
  },
  {
   "cell_type": "code",
   "execution_count": 9,
   "metadata": {
    "collapsed": true
   },
   "outputs": [],
   "source": [
    "stream_df.to_csv(\"synthetic_datasets/source/source_D10_C10_Projected_8-10_df.csv\")\n",
    "#stream_ss.to_csv(\"synthetic_datasets/source_D10_C10_Projected_8-10_ss.csv\")"
   ]
  },
  {
   "cell_type": "markdown",
   "metadata": {},
   "source": [
    "# Train a model to separate the dataset"
   ]
  },
  {
   "cell_type": "code",
   "execution_count": 10,
   "metadata": {
    "collapsed": true
   },
   "outputs": [],
   "source": [
    "from sklearn import tree\n",
    "clf = tree.DecisionTreeClassifier()"
   ]
  },
  {
   "cell_type": "code",
   "execution_count": 11,
   "metadata": {
    "collapsed": true
   },
   "outputs": [],
   "source": [
    "features = range(10)\n",
    "clf = clf.fit(stream_df[features], stream_df[\"cluster\"])"
   ]
  },
  {
   "cell_type": "markdown",
   "metadata": {},
   "source": [
    "### Save tree"
   ]
  },
  {
   "cell_type": "code",
   "execution_count": 12,
   "metadata": {
    "collapsed": true
   },
   "outputs": [],
   "source": [
    "pickle.dump(clf,open(\"source_models/source_D10_C10_Projected_8-10_model.pickle\",\"wb\"))"
   ]
  },
  {
   "cell_type": "markdown",
   "metadata": {},
   "source": [
    "### Visualize"
   ]
  },
  {
   "cell_type": "code",
   "execution_count": 13,
   "metadata": {},
   "outputs": [
    {
     "data": {
      "image/svg+xml": [
       "<?xml version=\"1.0\" encoding=\"UTF-8\" standalone=\"no\"?>\n",
       "<!DOCTYPE svg PUBLIC \"-//W3C//DTD SVG 1.1//EN\"\n",
       " \"http://www.w3.org/Graphics/SVG/1.1/DTD/svg11.dtd\">\n",
       "<!-- Generated by graphviz version 2.36.0 (20140111.2315)\n",
       " -->\n",
       "<!-- Title: Tree Pages: 1 -->\n",
       "<svg width=\"1719pt\" height=\"676pt\"\n",
       " viewBox=\"0.00 0.00 1719.00 676.00\" xmlns=\"http://www.w3.org/2000/svg\" xmlns:xlink=\"http://www.w3.org/1999/xlink\">\n",
       "<g id=\"graph0\" class=\"graph\" transform=\"scale(1 1) rotate(0) translate(4 672)\">\n",
       "<title>Tree</title>\n",
       "<polygon fill=\"white\" stroke=\"none\" points=\"-4,4 -4,-672 1715,-672 1715,4 -4,4\"/>\n",
       "<!-- 0 -->\n",
       "<g id=\"node1\" class=\"node\"><title>0</title>\n",
       "<path fill=\"none\" stroke=\"black\" d=\"M1082.25,-667.5C1082.25,-667.5 729.75,-667.5 729.75,-667.5 723.75,-667.5 717.75,-661.5 717.75,-655.5 717.75,-655.5 717.75,-596.5 717.75,-596.5 717.75,-590.5 723.75,-584.5 729.75,-584.5 729.75,-584.5 1082.25,-584.5 1082.25,-584.5 1088.25,-584.5 1094.25,-590.5 1094.25,-596.5 1094.25,-596.5 1094.25,-655.5 1094.25,-655.5 1094.25,-661.5 1088.25,-667.5 1082.25,-667.5\"/>\n",
       "<text text-anchor=\"start\" x=\"868.5\" y=\"-652.3\" font-family=\"Helvetica,sans-Serif\" font-size=\"14.00\">f_6 ≤ &#45;3.383</text>\n",
       "<text text-anchor=\"start\" x=\"877\" y=\"-637.3\" font-family=\"Helvetica,sans-Serif\" font-size=\"14.00\">gini = 0.9</text>\n",
       "<text text-anchor=\"start\" x=\"856\" y=\"-622.3\" font-family=\"Helvetica,sans-Serif\" font-size=\"14.00\">samples = 5000</text>\n",
       "<text text-anchor=\"start\" x=\"725.5\" y=\"-607.3\" font-family=\"Helvetica,sans-Serif\" font-size=\"14.00\">value = [456, 514, 501, 497, 511, 522, 509, 483, 492, 515]</text>\n",
       "<text text-anchor=\"start\" x=\"852\" y=\"-592.3\" font-family=\"Helvetica,sans-Serif\" font-size=\"14.00\">class = class_5.0</text>\n",
       "</g>\n",
       "<!-- 1 -->\n",
       "<g id=\"node2\" class=\"node\"><title>1</title>\n",
       "<path fill=\"#399de5\" fill-opacity=\"0.003922\" stroke=\"black\" d=\"M877,-547.5C877,-547.5 617,-547.5 617,-547.5 611,-547.5 605,-541.5 605,-535.5 605,-535.5 605,-476.5 605,-476.5 605,-470.5 611,-464.5 617,-464.5 617,-464.5 877,-464.5 877,-464.5 883,-464.5 889,-470.5 889,-476.5 889,-476.5 889,-535.5 889,-535.5 889,-541.5 883,-547.5 877,-547.5\"/>\n",
       "<text text-anchor=\"start\" x=\"712\" y=\"-532.3\" font-family=\"Helvetica,sans-Serif\" font-size=\"14.00\">f_2 ≤ 1.905</text>\n",
       "<text text-anchor=\"start\" x=\"714.5\" y=\"-517.3\" font-family=\"Helvetica,sans-Serif\" font-size=\"14.00\">gini = 0.75</text>\n",
       "<text text-anchor=\"start\" x=\"697\" y=\"-502.3\" font-family=\"Helvetica,sans-Serif\" font-size=\"14.00\">samples = 2037</text>\n",
       "<text text-anchor=\"start\" x=\"613\" y=\"-487.3\" font-family=\"Helvetica,sans-Serif\" font-size=\"14.00\">value = [0, 514, 0, 0, 0, 522, 509, 0, 492, 0]</text>\n",
       "<text text-anchor=\"start\" x=\"693\" y=\"-472.3\" font-family=\"Helvetica,sans-Serif\" font-size=\"14.00\">class = class_5.0</text>\n",
       "</g>\n",
       "<!-- 0&#45;&gt;1 -->\n",
       "<g id=\"edge1\" class=\"edge\"><title>0&#45;&gt;1</title>\n",
       "<path fill=\"none\" stroke=\"black\" d=\"M851.281,-584.391C838.04,-574.564 823.779,-563.981 810.184,-553.891\"/>\n",
       "<polygon fill=\"black\" stroke=\"black\" points=\"811.936,-550.833 801.82,-547.684 807.764,-556.454 811.936,-550.833\"/>\n",
       "<text text-anchor=\"middle\" x=\"805.48\" y=\"-568.714\" font-family=\"Helvetica,sans-Serif\" font-size=\"14.00\">True</text>\n",
       "</g>\n",
       "<!-- 8 -->\n",
       "<g id=\"node9\" class=\"node\"><title>8</title>\n",
       "<path fill=\"none\" stroke=\"black\" d=\"M1210.25,-547.5C1210.25,-547.5 919.75,-547.5 919.75,-547.5 913.75,-547.5 907.75,-541.5 907.75,-535.5 907.75,-535.5 907.75,-476.5 907.75,-476.5 907.75,-470.5 913.75,-464.5 919.75,-464.5 919.75,-464.5 1210.25,-464.5 1210.25,-464.5 1216.25,-464.5 1222.25,-470.5 1222.25,-476.5 1222.25,-476.5 1222.25,-535.5 1222.25,-535.5 1222.25,-541.5 1216.25,-547.5 1210.25,-547.5\"/>\n",
       "<text text-anchor=\"start\" x=\"1030\" y=\"-532.3\" font-family=\"Helvetica,sans-Serif\" font-size=\"14.00\">f_0 ≤ 0.564</text>\n",
       "<text text-anchor=\"start\" x=\"1028.5\" y=\"-517.3\" font-family=\"Helvetica,sans-Serif\" font-size=\"14.00\">gini = 0.833</text>\n",
       "<text text-anchor=\"start\" x=\"1015\" y=\"-502.3\" font-family=\"Helvetica,sans-Serif\" font-size=\"14.00\">samples = 2963</text>\n",
       "<text text-anchor=\"start\" x=\"915.5\" y=\"-487.3\" font-family=\"Helvetica,sans-Serif\" font-size=\"14.00\">value = [456, 0, 501, 497, 511, 0, 0, 483, 0, 515]</text>\n",
       "<text text-anchor=\"start\" x=\"1011\" y=\"-472.3\" font-family=\"Helvetica,sans-Serif\" font-size=\"14.00\">class = class_9.0</text>\n",
       "</g>\n",
       "<!-- 0&#45;&gt;8 -->\n",
       "<g id=\"edge8\" class=\"edge\"><title>0&#45;&gt;8</title>\n",
       "<path fill=\"none\" stroke=\"black\" d=\"M960.719,-584.391C973.96,-574.564 988.221,-563.981 1001.82,-553.891\"/>\n",
       "<polygon fill=\"black\" stroke=\"black\" points=\"1004.24,-556.454 1010.18,-547.684 1000.06,-550.833 1004.24,-556.454\"/>\n",
       "<text text-anchor=\"middle\" x=\"1006.52\" y=\"-568.714\" font-family=\"Helvetica,sans-Serif\" font-size=\"14.00\">False</text>\n",
       "</g>\n",
       "<!-- 2 -->\n",
       "<g id=\"node3\" class=\"node\"><title>2</title>\n",
       "<path fill=\"#e2e539\" fill-opacity=\"0.003922\" stroke=\"black\" d=\"M617,-427.5C617,-427.5 373,-427.5 373,-427.5 367,-427.5 361,-421.5 361,-415.5 361,-415.5 361,-356.5 361,-356.5 361,-350.5 367,-344.5 373,-344.5 373,-344.5 617,-344.5 617,-344.5 623,-344.5 629,-350.5 629,-356.5 629,-356.5 629,-415.5 629,-415.5 629,-421.5 623,-427.5 617,-427.5\"/>\n",
       "<text text-anchor=\"start\" x=\"457.5\" y=\"-412.3\" font-family=\"Helvetica,sans-Serif\" font-size=\"14.00\">f_5 ≤ &#45;0.958</text>\n",
       "<text text-anchor=\"start\" x=\"458.5\" y=\"-397.3\" font-family=\"Helvetica,sans-Serif\" font-size=\"14.00\">gini = 0.667</text>\n",
       "<text text-anchor=\"start\" x=\"445\" y=\"-382.3\" font-family=\"Helvetica,sans-Serif\" font-size=\"14.00\">samples = 1515</text>\n",
       "<text text-anchor=\"start\" x=\"369\" y=\"-367.3\" font-family=\"Helvetica,sans-Serif\" font-size=\"14.00\">value = [0, 514, 0, 0, 0, 0, 509, 0, 492, 0]</text>\n",
       "<text text-anchor=\"start\" x=\"441\" y=\"-352.3\" font-family=\"Helvetica,sans-Serif\" font-size=\"14.00\">class = class_1.0</text>\n",
       "</g>\n",
       "<!-- 1&#45;&gt;2 -->\n",
       "<g id=\"edge2\" class=\"edge\"><title>1&#45;&gt;2</title>\n",
       "<path fill=\"none\" stroke=\"black\" d=\"M660.276,-464.391C638.002,-453.961 613.91,-442.68 591.189,-432.041\"/>\n",
       "<polygon fill=\"black\" stroke=\"black\" points=\"592.425,-428.755 581.884,-427.684 589.456,-435.094 592.425,-428.755\"/>\n",
       "</g>\n",
       "<!-- 7 -->\n",
       "<g id=\"node8\" class=\"node\"><title>7</title>\n",
       "<path fill=\"#399de5\" stroke=\"black\" d=\"M872.25,-420C872.25,-420 659.75,-420 659.75,-420 653.75,-420 647.75,-414 647.75,-408 647.75,-408 647.75,-364 647.75,-364 647.75,-358 653.75,-352 659.75,-352 659.75,-352 872.25,-352 872.25,-352 878.25,-352 884.25,-358 884.25,-364 884.25,-364 884.25,-408 884.25,-408 884.25,-414 878.25,-420 872.25,-420\"/>\n",
       "<text text-anchor=\"start\" x=\"737\" y=\"-404.8\" font-family=\"Helvetica,sans-Serif\" font-size=\"14.00\">gini = 0.0</text>\n",
       "<text text-anchor=\"start\" x=\"720\" y=\"-389.8\" font-family=\"Helvetica,sans-Serif\" font-size=\"14.00\">samples = 522</text>\n",
       "<text text-anchor=\"start\" x=\"655.5\" y=\"-374.8\" font-family=\"Helvetica,sans-Serif\" font-size=\"14.00\">value = [0, 0, 0, 0, 0, 522, 0, 0, 0, 0]</text>\n",
       "<text text-anchor=\"start\" x=\"712\" y=\"-359.8\" font-family=\"Helvetica,sans-Serif\" font-size=\"14.00\">class = class_5.0</text>\n",
       "</g>\n",
       "<!-- 1&#45;&gt;7 -->\n",
       "<g id=\"edge7\" class=\"edge\"><title>1&#45;&gt;7</title>\n",
       "<path fill=\"none\" stroke=\"black\" d=\"M753.539,-464.391C755.314,-453.366 757.242,-441.389 759.04,-430.226\"/>\n",
       "<polygon fill=\"black\" stroke=\"black\" points=\"762.512,-430.682 760.646,-420.252 755.601,-429.569 762.512,-430.682\"/>\n",
       "</g>\n",
       "<!-- 3 -->\n",
       "<g id=\"node4\" class=\"node\"><title>3</title>\n",
       "<path fill=\"#3c39e5\" fill-opacity=\"0.035294\" stroke=\"black\" d=\"M359.25,-307.5C359.25,-307.5 130.75,-307.5 130.75,-307.5 124.75,-307.5 118.75,-301.5 118.75,-295.5 118.75,-295.5 118.75,-236.5 118.75,-236.5 118.75,-230.5 124.75,-224.5 130.75,-224.5 130.75,-224.5 359.25,-224.5 359.25,-224.5 365.25,-224.5 371.25,-230.5 371.25,-236.5 371.25,-236.5 371.25,-295.5 371.25,-295.5 371.25,-301.5 365.25,-307.5 359.25,-307.5\"/>\n",
       "<text text-anchor=\"start\" x=\"210\" y=\"-292.3\" font-family=\"Helvetica,sans-Serif\" font-size=\"14.00\">f_1 ≤ 4.785</text>\n",
       "<text text-anchor=\"start\" x=\"216\" y=\"-277.3\" font-family=\"Helvetica,sans-Serif\" font-size=\"14.00\">gini = 0.5</text>\n",
       "<text text-anchor=\"start\" x=\"195\" y=\"-262.3\" font-family=\"Helvetica,sans-Serif\" font-size=\"14.00\">samples = 1001</text>\n",
       "<text text-anchor=\"start\" x=\"126.5\" y=\"-247.3\" font-family=\"Helvetica,sans-Serif\" font-size=\"14.00\">value = [0, 0, 0, 0, 0, 0, 509, 0, 492, 0]</text>\n",
       "<text text-anchor=\"start\" x=\"191\" y=\"-232.3\" font-family=\"Helvetica,sans-Serif\" font-size=\"14.00\">class = class_6.0</text>\n",
       "</g>\n",
       "<!-- 2&#45;&gt;3 -->\n",
       "<g id=\"edge3\" class=\"edge\"><title>2&#45;&gt;3</title>\n",
       "<path fill=\"none\" stroke=\"black\" d=\"M408.964,-344.391C386.867,-333.961 362.966,-322.68 340.425,-312.041\"/>\n",
       "<polygon fill=\"black\" stroke=\"black\" points=\"341.732,-308.787 331.194,-307.684 338.744,-315.117 341.732,-308.787\"/>\n",
       "</g>\n",
       "<!-- 6 -->\n",
       "<g id=\"node7\" class=\"node\"><title>6</title>\n",
       "<path fill=\"#e2e539\" stroke=\"black\" d=\"M614.25,-300C614.25,-300 401.75,-300 401.75,-300 395.75,-300 389.75,-294 389.75,-288 389.75,-288 389.75,-244 389.75,-244 389.75,-238 395.75,-232 401.75,-232 401.75,-232 614.25,-232 614.25,-232 620.25,-232 626.25,-238 626.25,-244 626.25,-244 626.25,-288 626.25,-288 626.25,-294 620.25,-300 614.25,-300\"/>\n",
       "<text text-anchor=\"start\" x=\"479\" y=\"-284.8\" font-family=\"Helvetica,sans-Serif\" font-size=\"14.00\">gini = 0.0</text>\n",
       "<text text-anchor=\"start\" x=\"462\" y=\"-269.8\" font-family=\"Helvetica,sans-Serif\" font-size=\"14.00\">samples = 514</text>\n",
       "<text text-anchor=\"start\" x=\"397.5\" y=\"-254.8\" font-family=\"Helvetica,sans-Serif\" font-size=\"14.00\">value = [0, 514, 0, 0, 0, 0, 0, 0, 0, 0]</text>\n",
       "<text text-anchor=\"start\" x=\"454\" y=\"-239.8\" font-family=\"Helvetica,sans-Serif\" font-size=\"14.00\">class = class_1.0</text>\n",
       "</g>\n",
       "<!-- 2&#45;&gt;6 -->\n",
       "<g id=\"edge6\" class=\"edge\"><title>2&#45;&gt;6</title>\n",
       "<path fill=\"none\" stroke=\"black\" d=\"M499.474,-344.391C500.688,-333.366 502.008,-321.389 503.238,-310.226\"/>\n",
       "<polygon fill=\"black\" stroke=\"black\" points=\"506.72,-310.576 504.337,-300.252 499.762,-309.809 506.72,-310.576\"/>\n",
       "</g>\n",
       "<!-- 4 -->\n",
       "<g id=\"node5\" class=\"node\"><title>4</title>\n",
       "<path fill=\"#e539c0\" stroke=\"black\" d=\"M224.25,-180C224.25,-180 11.75,-180 11.75,-180 5.75,-180 -0.25,-174 -0.25,-168 -0.25,-168 -0.25,-124 -0.25,-124 -0.25,-118 5.75,-112 11.75,-112 11.75,-112 224.25,-112 224.25,-112 230.25,-112 236.25,-118 236.25,-124 236.25,-124 236.25,-168 236.25,-168 236.25,-174 230.25,-180 224.25,-180\"/>\n",
       "<text text-anchor=\"start\" x=\"89\" y=\"-164.8\" font-family=\"Helvetica,sans-Serif\" font-size=\"14.00\">gini = 0.0</text>\n",
       "<text text-anchor=\"start\" x=\"72\" y=\"-149.8\" font-family=\"Helvetica,sans-Serif\" font-size=\"14.00\">samples = 492</text>\n",
       "<text text-anchor=\"start\" x=\"7.5\" y=\"-134.8\" font-family=\"Helvetica,sans-Serif\" font-size=\"14.00\">value = [0, 0, 0, 0, 0, 0, 0, 0, 492, 0]</text>\n",
       "<text text-anchor=\"start\" x=\"64\" y=\"-119.8\" font-family=\"Helvetica,sans-Serif\" font-size=\"14.00\">class = class_8.0</text>\n",
       "</g>\n",
       "<!-- 3&#45;&gt;4 -->\n",
       "<g id=\"edge4\" class=\"edge\"><title>3&#45;&gt;4</title>\n",
       "<path fill=\"none\" stroke=\"black\" d=\"M201.294,-224.391C188.338,-212.354 174.161,-199.181 161.236,-187.172\"/>\n",
       "<polygon fill=\"black\" stroke=\"black\" points=\"163.497,-184.495 153.789,-180.252 158.732,-189.623 163.497,-184.495\"/>\n",
       "</g>\n",
       "<!-- 5 -->\n",
       "<g id=\"node6\" class=\"node\"><title>5</title>\n",
       "<path fill=\"#3c39e5\" stroke=\"black\" d=\"M479.25,-180C479.25,-180 266.75,-180 266.75,-180 260.75,-180 254.75,-174 254.75,-168 254.75,-168 254.75,-124 254.75,-124 254.75,-118 260.75,-112 266.75,-112 266.75,-112 479.25,-112 479.25,-112 485.25,-112 491.25,-118 491.25,-124 491.25,-124 491.25,-168 491.25,-168 491.25,-174 485.25,-180 479.25,-180\"/>\n",
       "<text text-anchor=\"start\" x=\"344\" y=\"-164.8\" font-family=\"Helvetica,sans-Serif\" font-size=\"14.00\">gini = 0.0</text>\n",
       "<text text-anchor=\"start\" x=\"327\" y=\"-149.8\" font-family=\"Helvetica,sans-Serif\" font-size=\"14.00\">samples = 509</text>\n",
       "<text text-anchor=\"start\" x=\"262.5\" y=\"-134.8\" font-family=\"Helvetica,sans-Serif\" font-size=\"14.00\">value = [0, 0, 0, 0, 0, 0, 509, 0, 0, 0]</text>\n",
       "<text text-anchor=\"start\" x=\"319\" y=\"-119.8\" font-family=\"Helvetica,sans-Serif\" font-size=\"14.00\">class = class_6.0</text>\n",
       "</g>\n",
       "<!-- 3&#45;&gt;5 -->\n",
       "<g id=\"edge5\" class=\"edge\"><title>3&#45;&gt;5</title>\n",
       "<path fill=\"none\" stroke=\"black\" d=\"M289.05,-224.391C302.108,-212.354 316.396,-199.181 329.424,-187.172\"/>\n",
       "<polygon fill=\"black\" stroke=\"black\" points=\"331.949,-189.604 336.93,-180.252 327.205,-184.457 331.949,-189.604\"/>\n",
       "</g>\n",
       "<!-- 9 -->\n",
       "<g id=\"node10\" class=\"node\"><title>9</title>\n",
       "<path fill=\"#39e5c5\" fill-opacity=\"0.007843\" stroke=\"black\" d=\"M1185,-427.5C1185,-427.5 925,-427.5 925,-427.5 919,-427.5 913,-421.5 913,-415.5 913,-415.5 913,-356.5 913,-356.5 913,-350.5 919,-344.5 925,-344.5 925,-344.5 1185,-344.5 1185,-344.5 1191,-344.5 1197,-350.5 1197,-356.5 1197,-356.5 1197,-415.5 1197,-415.5 1197,-421.5 1191,-427.5 1185,-427.5\"/>\n",
       "<text text-anchor=\"start\" x=\"1017.5\" y=\"-412.3\" font-family=\"Helvetica,sans-Serif\" font-size=\"14.00\">f_1 ≤ &#45;6.668</text>\n",
       "<text text-anchor=\"start\" x=\"1022.5\" y=\"-397.3\" font-family=\"Helvetica,sans-Serif\" font-size=\"14.00\">gini = 0.75</text>\n",
       "<text text-anchor=\"start\" x=\"1005\" y=\"-382.3\" font-family=\"Helvetica,sans-Serif\" font-size=\"14.00\">samples = 1951</text>\n",
       "<text text-anchor=\"start\" x=\"921\" y=\"-367.3\" font-family=\"Helvetica,sans-Serif\" font-size=\"14.00\">value = [456, 0, 501, 0, 511, 0, 0, 483, 0, 0]</text>\n",
       "<text text-anchor=\"start\" x=\"1001\" y=\"-352.3\" font-family=\"Helvetica,sans-Serif\" font-size=\"14.00\">class = class_4.0</text>\n",
       "</g>\n",
       "<!-- 8&#45;&gt;9 -->\n",
       "<g id=\"edge9\" class=\"edge\"><title>8&#45;&gt;9</title>\n",
       "<path fill=\"none\" stroke=\"black\" d=\"M1061.56,-464.391C1060.84,-455.862 1060.06,-446.763 1059.31,-437.912\"/>\n",
       "<polygon fill=\"black\" stroke=\"black\" points=\"1062.78,-437.352 1058.45,-427.684 1055.8,-437.944 1062.78,-437.352\"/>\n",
       "</g>\n",
       "<!-- 16 -->\n",
       "<g id=\"node17\" class=\"node\"><title>16</title>\n",
       "<path fill=\"#e53958\" fill-opacity=\"0.035294\" stroke=\"black\" d=\"M1456.25,-427.5C1456.25,-427.5 1227.75,-427.5 1227.75,-427.5 1221.75,-427.5 1215.75,-421.5 1215.75,-415.5 1215.75,-415.5 1215.75,-356.5 1215.75,-356.5 1215.75,-350.5 1221.75,-344.5 1227.75,-344.5 1227.75,-344.5 1456.25,-344.5 1456.25,-344.5 1462.25,-344.5 1468.25,-350.5 1468.25,-356.5 1468.25,-356.5 1468.25,-415.5 1468.25,-415.5 1468.25,-421.5 1462.25,-427.5 1456.25,-427.5\"/>\n",
       "<text text-anchor=\"start\" x=\"1307\" y=\"-412.3\" font-family=\"Helvetica,sans-Serif\" font-size=\"14.00\">f_3 ≤ 0.087</text>\n",
       "<text text-anchor=\"start\" x=\"1313\" y=\"-397.3\" font-family=\"Helvetica,sans-Serif\" font-size=\"14.00\">gini = 0.5</text>\n",
       "<text text-anchor=\"start\" x=\"1292\" y=\"-382.3\" font-family=\"Helvetica,sans-Serif\" font-size=\"14.00\">samples = 1012</text>\n",
       "<text text-anchor=\"start\" x=\"1223.5\" y=\"-367.3\" font-family=\"Helvetica,sans-Serif\" font-size=\"14.00\">value = [0, 0, 0, 497, 0, 0, 0, 0, 0, 515]</text>\n",
       "<text text-anchor=\"start\" x=\"1288\" y=\"-352.3\" font-family=\"Helvetica,sans-Serif\" font-size=\"14.00\">class = class_9.0</text>\n",
       "</g>\n",
       "<!-- 8&#45;&gt;16 -->\n",
       "<g id=\"edge16\" class=\"edge\"><title>8&#45;&gt;16</title>\n",
       "<path fill=\"none\" stroke=\"black\" d=\"M1160.33,-464.391C1185.14,-453.822 1212,-442.379 1237.27,-431.616\"/>\n",
       "<polygon fill=\"black\" stroke=\"black\" points=\"1238.67,-434.823 1246.5,-427.684 1235.92,-428.383 1238.67,-434.823\"/>\n",
       "</g>\n",
       "<!-- 10 -->\n",
       "<g id=\"node11\" class=\"node\"><title>10</title>\n",
       "<path fill=\"#7be539\" stroke=\"black\" d=\"M894.25,-300C894.25,-300 681.75,-300 681.75,-300 675.75,-300 669.75,-294 669.75,-288 669.75,-288 669.75,-244 669.75,-244 669.75,-238 675.75,-232 681.75,-232 681.75,-232 894.25,-232 894.25,-232 900.25,-232 906.25,-238 906.25,-244 906.25,-244 906.25,-288 906.25,-288 906.25,-294 900.25,-300 894.25,-300\"/>\n",
       "<text text-anchor=\"start\" x=\"759\" y=\"-284.8\" font-family=\"Helvetica,sans-Serif\" font-size=\"14.00\">gini = 0.0</text>\n",
       "<text text-anchor=\"start\" x=\"742\" y=\"-269.8\" font-family=\"Helvetica,sans-Serif\" font-size=\"14.00\">samples = 501</text>\n",
       "<text text-anchor=\"start\" x=\"677.5\" y=\"-254.8\" font-family=\"Helvetica,sans-Serif\" font-size=\"14.00\">value = [0, 0, 501, 0, 0, 0, 0, 0, 0, 0]</text>\n",
       "<text text-anchor=\"start\" x=\"734\" y=\"-239.8\" font-family=\"Helvetica,sans-Serif\" font-size=\"14.00\">class = class_2.0</text>\n",
       "</g>\n",
       "<!-- 9&#45;&gt;10 -->\n",
       "<g id=\"edge10\" class=\"edge\"><title>9&#45;&gt;10</title>\n",
       "<path fill=\"none\" stroke=\"black\" d=\"M963.114,-344.391C933.577,-331.337 901.02,-316.949 872.073,-304.156\"/>\n",
       "<polygon fill=\"black\" stroke=\"black\" points=\"873.371,-300.903 862.81,-300.062 870.542,-307.306 873.371,-300.903\"/>\n",
       "</g>\n",
       "<!-- 11 -->\n",
       "<g id=\"node12\" class=\"node\"><title>11</title>\n",
       "<path fill=\"#39e5c5\" fill-opacity=\"0.027451\" stroke=\"black\" d=\"M1181,-307.5C1181,-307.5 937,-307.5 937,-307.5 931,-307.5 925,-301.5 925,-295.5 925,-295.5 925,-236.5 925,-236.5 925,-230.5 931,-224.5 937,-224.5 937,-224.5 1181,-224.5 1181,-224.5 1187,-224.5 1193,-230.5 1193,-236.5 1193,-236.5 1193,-295.5 1193,-295.5 1193,-301.5 1187,-307.5 1181,-307.5\"/>\n",
       "<text text-anchor=\"start\" x=\"1021.5\" y=\"-292.3\" font-family=\"Helvetica,sans-Serif\" font-size=\"14.00\">f_7 ≤ &#45;0.983</text>\n",
       "<text text-anchor=\"start\" x=\"1022.5\" y=\"-277.3\" font-family=\"Helvetica,sans-Serif\" font-size=\"14.00\">gini = 0.666</text>\n",
       "<text text-anchor=\"start\" x=\"1009\" y=\"-262.3\" font-family=\"Helvetica,sans-Serif\" font-size=\"14.00\">samples = 1450</text>\n",
       "<text text-anchor=\"start\" x=\"933\" y=\"-247.3\" font-family=\"Helvetica,sans-Serif\" font-size=\"14.00\">value = [456, 0, 0, 0, 511, 0, 0, 483, 0, 0]</text>\n",
       "<text text-anchor=\"start\" x=\"1005\" y=\"-232.3\" font-family=\"Helvetica,sans-Serif\" font-size=\"14.00\">class = class_4.0</text>\n",
       "</g>\n",
       "<!-- 9&#45;&gt;11 -->\n",
       "<g id=\"edge11\" class=\"edge\"><title>9&#45;&gt;11</title>\n",
       "<path fill=\"none\" stroke=\"black\" d=\"M1056.38,-344.391C1056.67,-335.862 1056.97,-326.763 1057.27,-317.912\"/>\n",
       "<polygon fill=\"black\" stroke=\"black\" points=\"1060.78,-317.797 1057.62,-307.684 1053.78,-317.559 1060.78,-317.797\"/>\n",
       "</g>\n",
       "<!-- 12 -->\n",
       "<g id=\"node13\" class=\"node\"><title>12</title>\n",
       "<path fill=\"#39e5c5\" fill-opacity=\"0.105882\" stroke=\"black\" d=\"M1041.25,-187.5C1041.25,-187.5 812.75,-187.5 812.75,-187.5 806.75,-187.5 800.75,-181.5 800.75,-175.5 800.75,-175.5 800.75,-116.5 800.75,-116.5 800.75,-110.5 806.75,-104.5 812.75,-104.5 812.75,-104.5 1041.25,-104.5 1041.25,-104.5 1047.25,-104.5 1053.25,-110.5 1053.25,-116.5 1053.25,-116.5 1053.25,-175.5 1053.25,-175.5 1053.25,-181.5 1047.25,-187.5 1041.25,-187.5\"/>\n",
       "<text text-anchor=\"start\" x=\"889.5\" y=\"-172.3\" font-family=\"Helvetica,sans-Serif\" font-size=\"14.00\">f_1 ≤ &#45;0.889</text>\n",
       "<text text-anchor=\"start\" x=\"890.5\" y=\"-157.3\" font-family=\"Helvetica,sans-Serif\" font-size=\"14.00\">gini = 0.498</text>\n",
       "<text text-anchor=\"start\" x=\"881\" y=\"-142.3\" font-family=\"Helvetica,sans-Serif\" font-size=\"14.00\">samples = 967</text>\n",
       "<text text-anchor=\"start\" x=\"808.5\" y=\"-127.3\" font-family=\"Helvetica,sans-Serif\" font-size=\"14.00\">value = [456, 0, 0, 0, 511, 0, 0, 0, 0, 0]</text>\n",
       "<text text-anchor=\"start\" x=\"873\" y=\"-112.3\" font-family=\"Helvetica,sans-Serif\" font-size=\"14.00\">class = class_4.0</text>\n",
       "</g>\n",
       "<!-- 11&#45;&gt;12 -->\n",
       "<g id=\"edge12\" class=\"edge\"><title>11&#45;&gt;12</title>\n",
       "<path fill=\"none\" stroke=\"black\" d=\"M1013.57,-224.391C1002.79,-214.749 991.188,-204.38 980.094,-194.463\"/>\n",
       "<polygon fill=\"black\" stroke=\"black\" points=\"982.299,-191.739 972.511,-187.684 977.633,-196.958 982.299,-191.739\"/>\n",
       "</g>\n",
       "<!-- 15 -->\n",
       "<g id=\"node16\" class=\"node\"><title>15</title>\n",
       "<path fill=\"#a339e5\" stroke=\"black\" d=\"M1296.25,-180C1296.25,-180 1083.75,-180 1083.75,-180 1077.75,-180 1071.75,-174 1071.75,-168 1071.75,-168 1071.75,-124 1071.75,-124 1071.75,-118 1077.75,-112 1083.75,-112 1083.75,-112 1296.25,-112 1296.25,-112 1302.25,-112 1308.25,-118 1308.25,-124 1308.25,-124 1308.25,-168 1308.25,-168 1308.25,-174 1302.25,-180 1296.25,-180\"/>\n",
       "<text text-anchor=\"start\" x=\"1161\" y=\"-164.8\" font-family=\"Helvetica,sans-Serif\" font-size=\"14.00\">gini = 0.0</text>\n",
       "<text text-anchor=\"start\" x=\"1144\" y=\"-149.8\" font-family=\"Helvetica,sans-Serif\" font-size=\"14.00\">samples = 483</text>\n",
       "<text text-anchor=\"start\" x=\"1079.5\" y=\"-134.8\" font-family=\"Helvetica,sans-Serif\" font-size=\"14.00\">value = [0, 0, 0, 0, 0, 0, 0, 483, 0, 0]</text>\n",
       "<text text-anchor=\"start\" x=\"1136\" y=\"-119.8\" font-family=\"Helvetica,sans-Serif\" font-size=\"14.00\">class = class_7.0</text>\n",
       "</g>\n",
       "<!-- 11&#45;&gt;15 -->\n",
       "<g id=\"edge15\" class=\"edge\"><title>11&#45;&gt;15</title>\n",
       "<path fill=\"none\" stroke=\"black\" d=\"M1104.08,-224.391C1117.45,-212.354 1132.07,-199.181 1145.4,-187.172\"/>\n",
       "<polygon fill=\"black\" stroke=\"black\" points=\"1148,-189.546 1153.08,-180.252 1143.31,-184.345 1148,-189.546\"/>\n",
       "</g>\n",
       "<!-- 13 -->\n",
       "<g id=\"node14\" class=\"node\"><title>13</title>\n",
       "<path fill=\"#e58139\" stroke=\"black\" d=\"M905.25,-68C905.25,-68 692.75,-68 692.75,-68 686.75,-68 680.75,-62 680.75,-56 680.75,-56 680.75,-12 680.75,-12 680.75,-6 686.75,-0 692.75,-0 692.75,-0 905.25,-0 905.25,-0 911.25,-0 917.25,-6 917.25,-12 917.25,-12 917.25,-56 917.25,-56 917.25,-62 911.25,-68 905.25,-68\"/>\n",
       "<text text-anchor=\"start\" x=\"770\" y=\"-52.8\" font-family=\"Helvetica,sans-Serif\" font-size=\"14.00\">gini = 0.0</text>\n",
       "<text text-anchor=\"start\" x=\"753\" y=\"-37.8\" font-family=\"Helvetica,sans-Serif\" font-size=\"14.00\">samples = 456</text>\n",
       "<text text-anchor=\"start\" x=\"688.5\" y=\"-22.8\" font-family=\"Helvetica,sans-Serif\" font-size=\"14.00\">value = [456, 0, 0, 0, 0, 0, 0, 0, 0, 0]</text>\n",
       "<text text-anchor=\"start\" x=\"745\" y=\"-7.8\" font-family=\"Helvetica,sans-Serif\" font-size=\"14.00\">class = class_0.0</text>\n",
       "</g>\n",
       "<!-- 12&#45;&gt;13 -->\n",
       "<g id=\"edge13\" class=\"edge\"><title>12&#45;&gt;13</title>\n",
       "<path fill=\"none\" stroke=\"black\" d=\"M879.701,-104.353C868.476,-94.7058 856.513,-84.4256 845.332,-74.8163\"/>\n",
       "<polygon fill=\"black\" stroke=\"black\" points=\"847.599,-72.1502 837.734,-68.287 843.037,-77.4591 847.599,-72.1502\"/>\n",
       "</g>\n",
       "<!-- 14 -->\n",
       "<g id=\"node15\" class=\"node\"><title>14</title>\n",
       "<path fill=\"#39e5c5\" stroke=\"black\" d=\"M1160.25,-68C1160.25,-68 947.75,-68 947.75,-68 941.75,-68 935.75,-62 935.75,-56 935.75,-56 935.75,-12 935.75,-12 935.75,-6 941.75,-0 947.75,-0 947.75,-0 1160.25,-0 1160.25,-0 1166.25,-0 1172.25,-6 1172.25,-12 1172.25,-12 1172.25,-56 1172.25,-56 1172.25,-62 1166.25,-68 1160.25,-68\"/>\n",
       "<text text-anchor=\"start\" x=\"1025\" y=\"-52.8\" font-family=\"Helvetica,sans-Serif\" font-size=\"14.00\">gini = 0.0</text>\n",
       "<text text-anchor=\"start\" x=\"1008\" y=\"-37.8\" font-family=\"Helvetica,sans-Serif\" font-size=\"14.00\">samples = 511</text>\n",
       "<text text-anchor=\"start\" x=\"943.5\" y=\"-22.8\" font-family=\"Helvetica,sans-Serif\" font-size=\"14.00\">value = [0, 0, 0, 0, 511, 0, 0, 0, 0, 0]</text>\n",
       "<text text-anchor=\"start\" x=\"1000\" y=\"-7.8\" font-family=\"Helvetica,sans-Serif\" font-size=\"14.00\">class = class_4.0</text>\n",
       "</g>\n",
       "<!-- 12&#45;&gt;14 -->\n",
       "<g id=\"edge14\" class=\"edge\"><title>12&#45;&gt;14</title>\n",
       "<path fill=\"none\" stroke=\"black\" d=\"M973.929,-104.353C984.96,-94.7985 996.708,-84.6232 1007.71,-75.0937\"/>\n",
       "<polygon fill=\"black\" stroke=\"black\" points=\"1010.3,-77.4796 1015.57,-68.287 1005.72,-72.1884 1010.3,-77.4796\"/>\n",
       "</g>\n",
       "<!-- 17 -->\n",
       "<g id=\"node18\" class=\"node\"><title>17</title>\n",
       "<path fill=\"#e53958\" stroke=\"black\" d=\"M1444.25,-300C1444.25,-300 1231.75,-300 1231.75,-300 1225.75,-300 1219.75,-294 1219.75,-288 1219.75,-288 1219.75,-244 1219.75,-244 1219.75,-238 1225.75,-232 1231.75,-232 1231.75,-232 1444.25,-232 1444.25,-232 1450.25,-232 1456.25,-238 1456.25,-244 1456.25,-244 1456.25,-288 1456.25,-288 1456.25,-294 1450.25,-300 1444.25,-300\"/>\n",
       "<text text-anchor=\"start\" x=\"1309\" y=\"-284.8\" font-family=\"Helvetica,sans-Serif\" font-size=\"14.00\">gini = 0.0</text>\n",
       "<text text-anchor=\"start\" x=\"1292\" y=\"-269.8\" font-family=\"Helvetica,sans-Serif\" font-size=\"14.00\">samples = 515</text>\n",
       "<text text-anchor=\"start\" x=\"1227.5\" y=\"-254.8\" font-family=\"Helvetica,sans-Serif\" font-size=\"14.00\">value = [0, 0, 0, 0, 0, 0, 0, 0, 0, 515]</text>\n",
       "<text text-anchor=\"start\" x=\"1284\" y=\"-239.8\" font-family=\"Helvetica,sans-Serif\" font-size=\"14.00\">class = class_9.0</text>\n",
       "</g>\n",
       "<!-- 16&#45;&gt;17 -->\n",
       "<g id=\"edge17\" class=\"edge\"><title>16&#45;&gt;17</title>\n",
       "<path fill=\"none\" stroke=\"black\" d=\"M1340.62,-344.391C1340.25,-333.479 1339.85,-321.634 1339.48,-310.568\"/>\n",
       "<polygon fill=\"black\" stroke=\"black\" points=\"1342.96,-310.128 1339.13,-300.252 1335.97,-310.365 1342.96,-310.128\"/>\n",
       "</g>\n",
       "<!-- 18 -->\n",
       "<g id=\"node19\" class=\"node\"><title>18</title>\n",
       "<path fill=\"#39e55e\" stroke=\"black\" d=\"M1699.25,-300C1699.25,-300 1486.75,-300 1486.75,-300 1480.75,-300 1474.75,-294 1474.75,-288 1474.75,-288 1474.75,-244 1474.75,-244 1474.75,-238 1480.75,-232 1486.75,-232 1486.75,-232 1699.25,-232 1699.25,-232 1705.25,-232 1711.25,-238 1711.25,-244 1711.25,-244 1711.25,-288 1711.25,-288 1711.25,-294 1705.25,-300 1699.25,-300\"/>\n",
       "<text text-anchor=\"start\" x=\"1564\" y=\"-284.8\" font-family=\"Helvetica,sans-Serif\" font-size=\"14.00\">gini = 0.0</text>\n",
       "<text text-anchor=\"start\" x=\"1547\" y=\"-269.8\" font-family=\"Helvetica,sans-Serif\" font-size=\"14.00\">samples = 497</text>\n",
       "<text text-anchor=\"start\" x=\"1482.5\" y=\"-254.8\" font-family=\"Helvetica,sans-Serif\" font-size=\"14.00\">value = [0, 0, 0, 497, 0, 0, 0, 0, 0, 0]</text>\n",
       "<text text-anchor=\"start\" x=\"1539\" y=\"-239.8\" font-family=\"Helvetica,sans-Serif\" font-size=\"14.00\">class = class_3.0</text>\n",
       "</g>\n",
       "<!-- 16&#45;&gt;18 -->\n",
       "<g id=\"edge18\" class=\"edge\"><title>16&#45;&gt;18</title>\n",
       "<path fill=\"none\" stroke=\"black\" d=\"M1428.38,-344.391C1456.03,-331.394 1486.49,-317.073 1513.61,-304.322\"/>\n",
       "<polygon fill=\"black\" stroke=\"black\" points=\"1515.11,-307.484 1522.67,-300.062 1512.13,-301.149 1515.11,-307.484\"/>\n",
       "</g>\n",
       "</g>\n",
       "</svg>\n"
      ],
      "text/plain": [
       "<graphviz.files.Source at 0x10be2c290>"
      ]
     },
     "execution_count": 13,
     "metadata": {},
     "output_type": "execute_result"
    }
   ],
   "source": [
    "import graphviz \n",
    "dot_data = tree.export_graphviz(clf, out_file=None, \n",
    "                         feature_names=[\"f_\"+`f` for f in features],  \n",
    "                         class_names=[\"class_\"+`c` for c in np.unique(stream_df.cluster)],  \n",
    "                         filled=True, rounded=True,  \n",
    "                         special_characters=True)  \n",
    "\n",
    "graph = graphviz.Source(dot_data)  \n",
    "graph.render('source_tree.gv', view=False)\n",
    "graph"
   ]
  },
  {
   "cell_type": "markdown",
   "metadata": {},
   "source": [
    "### Feature importance"
   ]
  },
  {
   "cell_type": "code",
   "execution_count": 14,
   "metadata": {},
   "outputs": [
    {
     "data": {
      "text/plain": [
       "<matplotlib.text.Text at 0x10c0ea7d0>"
      ]
     },
     "execution_count": 14,
     "metadata": {},
     "output_type": "execute_result"
    },
    {
     "data": {
      "image/png": "[encoded data removed]",
      "text/plain": [
       "<matplotlib.figure.Figure at 0x10c388410>"
      ]
     },
     "metadata": {},
     "output_type": "display_data"
    }
   ],
   "source": [
    "plt.plot(clf.feature_importances_,\"o\")\n",
    "plt.xlabel(\"Feature\")\n",
    "plt.ylabel(\"Importance\")"
   ]
  },
  {
   "cell_type": "markdown",
   "metadata": {},
   "source": [
    "# Destroy one feature at a time\n",
    "One of the features is chosen and every coordinate is then chosen uniformly along these feature"
   ]
  },
  {
   "cell_type": "code",
   "execution_count": 15,
   "metadata": {
    "collapsed": true
   },
   "outputs": [],
   "source": [
    "import copy"
   ]
  },
  {
   "cell_type": "code",
   "execution_count": 16,
   "metadata": {
    "collapsed": true
   },
   "outputs": [],
   "source": [
    "from Changes import loose_feature"
   ]
  },
  {
   "cell_type": "code",
   "execution_count": 17,
   "metadata": {
    "collapsed": true
   },
   "outputs": [],
   "source": [
    "for dimension in range(10):\n",
    "    sg_copy = copy.deepcopy(sg)\n",
    "    loose_feature(sg_copy.clusters, {i:[dimension] for i in range(10)})\n",
    "    stream_ss,stream_df = sg_copy.get_full_dataset(5000)\n",
    "    pickle.dump(sg_copy,open(\"synthetic_datasets/target/target_generator_erase_feature_\"+str(dimension)+\".pickle\",\"wb\"))\n",
    "    stream_df.to_csv(\"synthetic_datasets/target/target_D10_C10_Projected_8-10_df_erase_feature_\"+str(dimension)+\".csv\")\n",
    "    #stream_ss.to_csv(\"synthetic_datasets/source_D10_C10_Projected_8-10_ss_erase_feature_\"+str(dimension)+\".csv\")\n",
    "    "
   ]
  },
  {
   "cell_type": "markdown",
   "metadata": {},
   "source": [
    "# Change Cluster Weight\n",
    "\n",
    "+ One of the clusters get very few points\n",
    "+ One of the clusters get few points"
   ]
  },
  {
   "cell_type": "code",
   "execution_count": 18,
   "metadata": {
    "collapsed": true
   },
   "outputs": [],
   "source": [
    "from Changes import change_cluster_weight"
   ]
  },
  {
   "cell_type": "code",
   "execution_count": 19,
   "metadata": {
    "collapsed": true
   },
   "outputs": [],
   "source": [
    "for cluster in range(10):\n",
    "    sg_copy = copy.deepcopy(sg)\n",
    "    change_cluster_weight(sg_copy.clusters,clusters_weights={cluster:0.01})\n",
    "    stream_ss,stream_df = sg_copy.get_full_dataset(5000)\n",
    "    pickle.dump(sg_copy,open(\"synthetic_datasets/target/target_generator_smaller_cluster_\"+str(cluster)+\".pickle\",\"wb\"))\n",
    "    stream_df.to_csv(\"synthetic_datasets/target/target_D10_C10_Projected_8-10_df_smaller_cluster_\"+str(cluster)+\".csv\")"
   ]
  },
  {
   "cell_type": "code",
   "execution_count": 20,
   "metadata": {
    "collapsed": true
   },
   "outputs": [],
   "source": [
    "for cluster in range(10):\n",
    "    sg_copy = copy.deepcopy(sg)\n",
    "    change_cluster_weight(sg_copy.clusters,clusters_weights={cluster:1.0})\n",
    "    stream_ss,stream_df = sg_copy.get_full_dataset(5000)\n",
    "    pickle.dump(sg_copy,open(\"synthetic_datasets/target/target_generator_bigger_cluster_\"+str(cluster)+\".pickle\",\"wb\"))\n",
    "    stream_df.to_csv(\"synthetic_datasets/target/target_D10_C10_Projected_8-10_df_bigger_cluster_\"+str(cluster)+\".csv\")"
   ]
  },
  {
   "cell_type": "markdown",
   "metadata": {},
   "source": [
    "# Include Dimension\n",
    "For every cluster make one of the features at a time very separable"
   ]
  },
  {
   "cell_type": "code",
   "execution_count": 21,
   "metadata": {
    "collapsed": true
   },
   "outputs": [],
   "source": [
    "from Changes import gain_feature"
   ]
  },
  {
   "cell_type": "code",
   "execution_count": 22,
   "metadata": {
    "collapsed": true
   },
   "outputs": [],
   "source": [
    "for dimension in range(10):\n",
    "    sg_copy = copy.deepcopy(sg)\n",
    "    gain_feature(sg_copy.clusters, {i:[dimension] for i in range(10)})\n",
    "    stream_ss,stream_df = sg_copy.get_full_dataset(5000)\n",
    "    pickle.dump(sg_copy,open(\"synthetic_datasets/target/target_generator_gain_feature_\"+str(dimension)+\".pickle\",\"wb\"))\n",
    "    stream_df.to_csv(\"synthetic_datasets/target/target_D10_C10_Projected_8-10_df_gain_feature_\"+str(dimension)+\".csv\")\n"
   ]
  },
  {
   "cell_type": "markdown",
   "metadata": {},
   "source": [
    "# Apply Drift\n",
    "Apply a speed vector $\\sim \\mathcal{N}(0,1)$ along one dimension at a time"
   ]
  },
  {
   "cell_type": "code",
   "execution_count": 23,
   "metadata": {
    "collapsed": true
   },
   "outputs": [],
   "source": [
    "from Changes import apply_drift"
   ]
  },
  {
   "cell_type": "code",
   "execution_count": 24,
   "metadata": {},
   "outputs": [],
   "source": [
    "for dimension in range(10):\n",
    "    sg_copy = copy.deepcopy(sg)\n",
    "    apply_drift(sg_copy.clusters, {cluster:{dimension:np.random.randn(1)[0]} for cluster in range(10)}, -20, 20)\n",
    "    stream_ss,stream_df = sg_copy.get_full_dataset(5000)\n",
    "    pickle.dump(sg_copy,open(\"synthetic_datasets/target/target_generator_drift_feature_\"+str(dimension)+\".pickle\",\"wb\"))\n",
    "    stream_df.to_csv(\"synthetic_datasets/target/target_D10_C10_Projected_8-10_df_drift_feature_\"+str(dimension)+\".csv\")\n"
   ]
  },
  {
   "cell_type": "markdown",
   "metadata": {
    "collapsed": true
   },
   "source": [
    "# Apply Density Change\n",
    "Replace the cluster radius by a number between 0.5 and 2 uniformly along each dimension"
   ]
  },
  {
   "cell_type": "code",
   "execution_count": 25,
   "metadata": {
    "collapsed": true
   },
   "outputs": [],
   "source": [
    "from Changes import apply_density_change"
   ]
  },
  {
   "cell_type": "code",
   "execution_count": 26,
   "metadata": {
    "collapsed": true
   },
   "outputs": [],
   "source": [
    "for dimension in range(10):\n",
    "    sg_copy = copy.deepcopy(sg)\n",
    "    apply_density_change(sg_copy.clusters, {cluster:{dimension:np.random.random(1)[0]*1.5+0.5} for cluster in range(10)})\n",
    "    stream_ss,stream_df = sg_copy.get_full_dataset(5000)\n",
    "    pickle.dump(sg_copy,open(\"synthetic_datasets/target/target_generator_density_feature_\"+str(dimension)+\".pickle\",\"wb\"))\n",
    "    stream_df.to_csv(\"synthetic_datasets/target/target_D10_C10_Projected_8-10_df_density_feature_\"+str(dimension)+\".csv\")\n"
   ]
  },
  {
   "cell_type": "code",
   "execution_count": null,
   "metadata": {
    "collapsed": true
   },
   "outputs": [],
   "source": []
  },
  {
   "cell_type": "code",
   "execution_count": null,
   "metadata": {
    "collapsed": true
   },
   "outputs": [],
   "source": []
  },
  {
   "cell_type": "code",
   "execution_count": null,
   "metadata": {
    "collapsed": true
   },
   "outputs": [],
   "source": []
  },
  {
   "cell_type": "code",
   "execution_count": null,
   "metadata": {
    "collapsed": true
   },
   "outputs": [],
   "source": []
  }
 ],
 "metadata": {
  "kernelspec": {
   "display_name": "Python 2",
   "language": "python",
   "name": "python2"
  },
  "language_info": {
   "codemirror_mode": {
    "name": "ipython",
    "version": 2
   },
   "file_extension": ".py",
   "mimetype": "text/x-python",
   "name": "python",
   "nbconvert_exporter": "python",
   "pygments_lexer": "ipython2",
   "version": "2.7.11"
  }
 },
 "nbformat": 4,
 "nbformat_minor": 2
}
